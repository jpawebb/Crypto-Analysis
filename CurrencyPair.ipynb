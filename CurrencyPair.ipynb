{
  "nbformat": 4,
  "nbformat_minor": 0,
  "metadata": {
    "colab": {
      "name": "CurrencyPair.ipynb",
      "provenance": [],
      "authorship_tag": "ABX9TyNTN3GTCjhkjUT9YOuKFe2c"
    },
    "kernelspec": {
      "name": "python3",
      "display_name": "Python 3"
    },
    "language_info": {
      "name": "python"
    }
  },
  "cells": [
    {
      "cell_type": "code",
      "metadata": {
        "id": "ABiJw085zJYK"
      },
      "source": [
        "import pandas as pd\n",
        "import requests\n",
        "import json\n",
        "import time\n",
        "import datetime"
      ],
      "execution_count": 1,
      "outputs": []
    },
    {
      "cell_type": "code",
      "metadata": {
        "id": "W_bBKhdIzDVT"
      },
      "source": [
        "# Live Currency Pairs\n",
        "def get_data_piece(period, symbol, currency):\n",
        "  while True:\n",
        "    response = requests.get('https://api.coinbase.com/v2/prices/{}-{}/spot'.format(symbol, currency))\n",
        "\n",
        "    data = response.json()\n",
        "    currency = data['data']['currency']\n",
        "    price = data['data']['amount']\n",
        "    base = data['data']['base']\n",
        "\n",
        "    print('{} {} per {}'.format(price, currency, base))\n",
        "    time.sleep(period)\n",
        "\n",
        "get_data_piece(2, 'BTC', 'GBP')"
      ],
      "execution_count": null,
      "outputs": []
    }
  ]
}