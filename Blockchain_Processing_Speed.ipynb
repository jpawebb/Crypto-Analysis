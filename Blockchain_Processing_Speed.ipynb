{
  "nbformat": 4,
  "nbformat_minor": 0,
  "metadata": {
    "colab": {
      "name": "Blockchain_Processing_Speed.ipynb",
      "provenance": [],
      "authorship_tag": "ABX9TyPe3dMz9uuMlbAoR3v6LdBS"
    },
    "kernelspec": {
      "name": "python3",
      "display_name": "Python 3"
    }
  },
  "cells": [
    {
      "cell_type": "code",
      "metadata": {
        "id": "kuxWX1lctgDJ"
      },
      "source": [
        "import numpy as np\n",
        "import pandas as pd\n",
        "import requests\n",
        "import json\n",
        "import time\n",
        "import datetime\n",
        "import matplotlib.pyplot as plt"
      ],
      "execution_count": 1,
      "outputs": []
    },
    {
      "cell_type": "code",
      "metadata": {
        "id": "PcT2U1blUORG"
      },
      "source": [
        "# Wrangle data from cryptocompare API\n",
        "\n",
        "def blocktotime(symbol):\n",
        "\n",
        "  # Blockchain data url\n",
        "  url = 'https://min-api.cryptocompare.com/data/blockchain/histo/day?api_key=be5138d4832a7bc23f39c518f6a7e07a76cbea93ca224491190683c6d0a19ea6&limit=2000&fsym=' + symbol \n",
        "  APIKEY = 'be5138d4832a7bc23f39c518f6a7e07a76cbea93ca224491190683c6d0a19ea6'\n",
        "  response = requests.get(url).json()['Data']['Data']\n",
        "  df = pd.DataFrame(response)\n",
        "  df['datetime'] = pd.to_datetime(df['time'], unit='s')\n",
        "\n",
        "  # Calculate something, I will do block size to block time (b/s)\n",
        "  df['sizetotime'] = df['block_size'] / df['block_time']\n",
        "\n",
        "  # Price data url\n",
        "  price_url = 'https://min-api.cryptocompare.com/data/v2/histoday?tsym=USD&limit=2000&api_key=be5138d4832a7bc23f39c518f6a7e07a76cbea93ca224491190683c6d0a19ea6&fsym=' + symbol\n",
        "  price_data = requests.get(url).json()['Data']['Data']\n",
        "\n",
        "  # Data frame datetime conversion\n",
        "  price_df = pd.DataFrame(price_data)\n",
        "  price_df['datetime'] = pd.to_datetime(price_df['time'], unit='s')\n",
        "  prices_df = df.set_index('datetime').merge(price_df.set_index('datetime'), on='datetime')\n",
        "  return prices_df\n",
        "\n",
        "\n",
        "# Iterate over list\n",
        "crypto_list = ['BTC', 'ETH', 'DOGE', 'LTC', 'ZEC']\n",
        "bts_df = pd.DataFrame()\n",
        "metric = 'sizetotime'\n",
        "\n",
        "for c in crypto_list:\n",
        "  df = blocktotime(c)\n",
        "  bts_df[c] = df[metric]\n",
        "\n",
        "bts_df\n",
        "\n",
        "plt.figure(figsize=(18.5, 12.5))\n",
        "plt.plot(bts_df.rolling(window=30).mean(), lw=1.75)     # Smoothing param\n",
        "plt.title('Block Processing Speed (Block Size to Block Time Ratios (Rolling 30-day mean))', fontsize=30)\n",
        "plt.xlabel(\"Date\", fontsize=20)\n",
        "plt.ylabel(\"BS:BT (bits per second)\", fontsize=20)\n",
        "plt.legend(loc=0, labels=crypto_list)"
      ],
      "execution_count": null,
      "outputs": []
    },
    {
      "cell_type": "code",
      "metadata": {
        "id": "X59Y8VsqfPRR"
      },
      "source": [
        ""
      ],
      "execution_count": null,
      "outputs": []
    }
  ]
}