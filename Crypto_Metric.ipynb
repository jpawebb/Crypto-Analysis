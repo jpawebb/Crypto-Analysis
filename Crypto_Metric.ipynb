{
  "nbformat": 4,
  "nbformat_minor": 0,
  "metadata": {
    "colab": {
      "name": "Crypto_Metric.ipynb",
      "provenance": [],
      "authorship_tag": "ABX9TyNXb0zFBvO7xv7CFm7HuCSC"
    },
    "kernelspec": {
      "name": "python3",
      "display_name": "Python 3"
    }
  },
  "cells": [
    {
      "cell_type": "code",
      "metadata": {
        "id": "koNb3gLRCcmu"
      },
      "source": [
        "import numpy as np\n",
        "import pandas as pd\n",
        "import matplotlib.pyplot as plt\n",
        "import json\n",
        "import time\n",
        "import requests\n",
        "import datetime"
      ],
      "execution_count": 2,
      "outputs": []
    },
    {
      "cell_type": "code",
      "metadata": {
        "id": "tworXyHzCtw5"
      },
      "source": [
        "def txn_stat(symbol):\n",
        "\n",
        "  # Blockchain data\n",
        "  blk_url = 'https://min-api.cryptocompare.com/data/blockchain/histo/day?api_key=be5138d4832a7bc23f39c518f6a7e07a76cbea93ca224491190683c6d0a19ea6&limit=2000&fsym=' + symbol \n",
        "  APIKEY = 'be5138d4832a7bc23f39c518f6a7e07a76cbea93ca224491190683c6d0a19ea6'\n",
        "\n",
        "  response = requests.get(blk_url).json()['Data']['Data']\n",
        "  df = pd.DataFrame(response)\n",
        "  df['datetime'] = pd.to_datetime(df['time'], unit='s')\n",
        "  df = df.set_index('datetime')\n",
        "\n",
        "  # Math \n",
        "  df['address_engagement'] = df['new_addresses'] / df['active_addresses']\n",
        "  df['log_addresses'] = np.log(df['unique_addresses_all_time'])\n",
        "\n",
        "  # Price\n",
        "  price_url = 'https://min-api.cryptocompare.com/data/v2/histoday?tsym=USD&limit=2000&api_key=be5138d4832a7bc23f39c518f6a7e07a76cbea93ca224491190683c6d0a19ea6&fsym=' + symbol\n",
        "  price_data = requests.get(url).json()['Data']['Data']\n",
        "\n",
        "  return df\n",
        "\n",
        "my_list = ['LINK', 'ADA', 'BAT']\n",
        "txn_df = pd.DataFrame()\n",
        "\n",
        "for c in my_list:\n",
        "  df = txn_stat(c)\n",
        "  txn_df[c] = df['']                          # Metric\n",
        "\n",
        "plt.figure(figsize=(20,14))\n",
        "plt.plot(txn_df, lw=1.75)\n",
        "plt.title('', fontsize=30)                    # Metric\n",
        "plt.xlabel('Date', fontsize=20)\n",
        "plt.ylabel('', fontsize=20)                   # Metric\n",
        "plt.legend(loc=0, labels=my_list)\n"
      ],
      "execution_count": null,
      "outputs": []
    },
    {
      "cell_type": "code",
      "metadata": {
        "id": "swbjCEt5I-Nx"
      },
      "source": [
        ""
      ],
      "execution_count": null,
      "outputs": []
    }
  ]
}