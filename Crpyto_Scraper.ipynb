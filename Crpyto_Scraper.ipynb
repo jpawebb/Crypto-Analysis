{
  "nbformat": 4,
  "nbformat_minor": 0,
  "metadata": {
    "colab": {
      "name": "Crpyto_Scraper.ipynb",
      "provenance": [],
      "authorship_tag": "ABX9TyMJaShSTP0Bt2sFYKavkdDm"
    },
    "kernelspec": {
      "display_name": "Python 3",
      "name": "python3"
    }
  },
  "cells": [
    {
      "cell_type": "code",
      "metadata": {
        "id": "OV7QUSyn84yb"
      },
      "source": [
        "# Grab coin data from API, plot and compare T30 days\n",
        "import requests\n",
        "import json\n",
        "import numpy as np\n",
        "import pandas as pd\n",
        "import matplotlib.pyplot as plt\n",
        "plt.style.use('Solarize_Light2')"
      ],
      "execution_count": 2,
      "outputs": []
    },
    {
      "cell_type": "code",
      "metadata": {
        "id": "FlQPKnqt_OMZ"
      },
      "source": [
        "def get_data_func(symbol):\n",
        "\n",
        "  price_url = 'https://min-api.cryptocompare.com/data/v2/histoday?fsym={}&tsym=GBP&limit=365'.format(symbol)\n",
        "  price_data = requests.get(price_url).json()['Data']['Data']\n",
        "\n",
        "  df_price = pd.DataFrame(price_data)\n",
        "  df_price['datetime'] = pd.to_datetime(df_price['time'], unit='s')\n",
        "  df_price = df_price.set_index('datetime')\n",
        "  \n",
        "  # Prices themselves directly incomparable so I will plot mean returns\n",
        "  df_price['rtn'] = df_price['close'].pct_change()\n",
        "\n",
        "\n",
        "  # Average, median and std\n",
        "  AvRtn = df_price['rtn'].mean()\n",
        "  MedRtn = df_price['rtn'].median()\n",
        "  StdDev = df_price['rtn'].std()\n",
        "  print(symbol)\n",
        "  print('Average Return = ', round(AvRtn * 100, 4), '%')\n",
        "  print('Median Return = ', round(MedRtn * 100, 4), '%')\n",
        "  print('Standard Deviation = ', round(StdDev * 100, 5), '%\\n')\n",
        "\n",
        "\n",
        "  return df_price"
      ],
      "execution_count": 4,
      "outputs": []
    },
    {
      "cell_type": "code",
      "metadata": {
        "id": "Osxl5E2T_S-v"
      },
      "source": [
        ""
      ],
      "execution_count": null,
      "outputs": []
    },
    {
      "cell_type": "code",
      "metadata": {
        "id": "sG8cVonC9J9l"
      },
      "source": [
        "# Iterating over a coin list to print simple statistics\n",
        "\n",
        "coin_list = ['UNI', 'LINK', 'AAVE', 'FTT', 'CHZ', 'SNX', 'SUSHI', 'ENJ', \n",
        "               'GRT', 'MATIC', 'MKR', 'COMP', 'CEL', 'BAT', 'MANA', 'UMA', \n",
        "               'BNT', 'YFI', 'REN', 'OMG', 'LRC', '1INCH', 'CRV', \n",
        "               'OCEAN', 'BAL', 'ALPHA', 'REEF', 'SAND', 'BAND',\n",
        "                'BADGER', 'NMR', 'SRM', 'LINA', 'AKRO']\n",
        "\n",
        "coins_df = pd.DataFrame()\n",
        "metric = 'close'\n",
        "col_names = []\n",
        "first = True\n",
        "\n",
        "price_url = 'https://min-api.cryptocompare.com/data/v2/histoday?fsym={}&tsym=GBP&limit=365'\n",
        "block_url = ''          # Add later \n",
        "\n",
        "for ticker in coin_list:\n",
        "  data = get_data_func(ticker)\n",
        "  if first:\n",
        "    combined = pd.DataFrame(data[metric].copy())\n",
        "    col_names.append(ticker)\n",
        "    combined.columns = col_names\n",
        "    first = False\n",
        "  else:\n",
        "    combined = combined.join(data[metric])\n",
        "    col_names.append(ticker)\n",
        "    combined.columns = col_names\n",
        "\n",
        "\n",
        "# combined.to_csv('1yr_Close.csv')\n",
        "combined\n",
        "\n",
        "change = combined.pct_change()\n",
        "plt.figure(figsize=(22,16))\n",
        "plt.legend(labels=coin_list, loc=0)\n",
        "plt.plot(change)\n",
        "plt.legend(coin_list, loc=0)"
      ],
      "execution_count": null,
      "outputs": []
    }
  ]
}